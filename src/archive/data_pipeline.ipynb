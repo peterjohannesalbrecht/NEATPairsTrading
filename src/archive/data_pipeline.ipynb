{
 "cells": [
  {
   "cell_type": "code",
   "execution_count": 1,
   "metadata": {},
   "outputs": [],
   "source": [
    "import sqlite3\n",
    "import pandas as pd\n",
    "import pickle\n",
    "from src.DataPreprocessing.DataPreprocessing import DataPreprocessing\n",
    "from src.FeatureEngineering.FeatureEngineering import FeatureEngineering\n",
    "from src.PipelineSettings.PipelineSettings import PipelineSettings\n",
    "from src.PairsIdentification.PairsIdentification import PairsIdentification"
   ]
  },
  {
   "cell_type": "code",
   "execution_count": 2,
   "metadata": {},
   "outputs": [],
   "source": [
    "PATH = 'src/data/data_PJA.xlsx'"
   ]
  },
  {
   "cell_type": "code",
   "execution_count": 3,
   "metadata": {},
   "outputs": [],
   "source": [
    "# Read in all time series data from the .xlsx-file \n",
    "raw_data, raw_data_train, raw_data_test = DataPreprocessing().load_raw_data_from_xlsx(PATH)\n"
   ]
  },
  {
   "cell_type": "code",
   "execution_count": 4,
   "metadata": {},
   "outputs": [],
   "source": [
    "# Should be done from inside the function, together with saving the table time series\n",
    "\n",
    "# Connect to database\n",
    "conn = sqlite3.connect('src/data/pairs_trading.db')\n",
    "cursor = conn.cursor()\n",
    "\n",
    "raw_data_test.to_sql('test_set_raw', conn, if_exists='replace', index=True)\n",
    "raw_data_train.to_sql('train_set_raw', conn, if_exists='replace', index=True)\n",
    "\n",
    "\n",
    "# Commit the changes to the database and close the connection\n",
    "conn.commit()\n",
    "conn.close()"
   ]
  },
  {
   "cell_type": "code",
   "execution_count": 3,
   "metadata": {},
   "outputs": [],
   "source": [
    "# Read in the pairs that go in the pair selection process\n",
    "\n",
    "# !!!Should read that from sql!!!\n",
    "pairs_mapping = pd.read_excel(PATH, sheet_name='pairs')\n",
    "\n",
    "codes_mapping = pd.read_excel(PATH, sheet_name='names')"
   ]
  },
  {
   "cell_type": "code",
   "execution_count": 4,
   "metadata": {},
   "outputs": [],
   "source": [
    "# Compute statistics (Average crossing time, Cointegration-p-value, hurst coefficient)\n",
    "identification, selected, unselected = PairsIdentification().generate_identification_stats(pairs_mapping)"
   ]
  },
  {
   "cell_type": "code",
   "execution_count": 5,
   "metadata": {},
   "outputs": [],
   "source": [
    "# Perform sql-like inner join to only keep pairs mapping for selected pairs\n",
    "final_pairs_mapping = pairs_mapping.merge(selected, on='pair', how='inner').drop(columns=['area_y'])\n"
   ]
  },
  {
   "cell_type": "code",
   "execution_count": 8,
   "metadata": {},
   "outputs": [
    {
     "data": {
      "text/plain": [
       "Timestamp('2009-01-02 00:00:00')"
      ]
     },
     "execution_count": 8,
     "metadata": {},
     "output_type": "execute_result"
    }
   ],
   "source": [
    "final_pairs_mapping.date_min.min()"
   ]
  },
  {
   "cell_type": "code",
   "execution_count": 6,
   "metadata": {},
   "outputs": [
    {
     "name": "stderr",
     "output_type": "stream",
     "text": [
      "/Users/PJA/anaconda3/lib/python3.10/site-packages/pandas/core/internals/blocks.py:351: RuntimeWarning: invalid value encountered in log\n",
      "  result = func(self.values, **kwargs)\n",
      "/Users/PJA/anaconda3/lib/python3.10/site-packages/pandas/core/internals/blocks.py:351: RuntimeWarning: invalid value encountered in log\n",
      "  result = func(self.values, **kwargs)\n",
      "/Users/PJA/anaconda3/lib/python3.10/site-packages/pandas/core/internals/blocks.py:351: RuntimeWarning: invalid value encountered in log\n",
      "  result = func(self.values, **kwargs)\n",
      "/Users/PJA/anaconda3/lib/python3.10/site-packages/pandas/core/internals/blocks.py:351: RuntimeWarning: invalid value encountered in log\n",
      "  result = func(self.values, **kwargs)\n"
     ]
    },
    {
     "name": "stdout",
     "output_type": "stream",
     "text": [
      "Applying Scaler passed as argument\n",
      "Applying Scaler passed as argument\n",
      "Applying Scaler passed as argument\n",
      "Applying Scaler passed as argument\n",
      "Applying Scaler passed as argument\n",
      "Applying Scaler passed as argument\n",
      "Applying Scaler passed as argument\n",
      "Applying Scaler passed as argument\n",
      "Applying Scaler passed as argument\n",
      "Applying Scaler passed as argument\n",
      "Applying Scaler passed as argument\n",
      "Applying Scaler passed as argument\n",
      "Applying Scaler passed as argument\n",
      "Applying Scaler passed as argument\n",
      "Applying Scaler passed as argument\n",
      "Applying Scaler passed as argument\n",
      "Applying Scaler passed as argument\n",
      "Applying Scaler passed as argument\n",
      "Applying Scaler passed as argument\n",
      "Applying Scaler passed as argument\n",
      "Applying Scaler passed as argument\n",
      "Applying Scaler passed as argument\n"
     ]
    },
    {
     "name": "stderr",
     "output_type": "stream",
     "text": [
      "/Users/PJA/anaconda3/lib/python3.10/site-packages/pandas/core/internals/blocks.py:351: RuntimeWarning: invalid value encountered in log\n",
      "  result = func(self.values, **kwargs)\n",
      "/Users/PJA/anaconda3/lib/python3.10/site-packages/pandas/core/internals/blocks.py:351: RuntimeWarning: invalid value encountered in log\n",
      "  result = func(self.values, **kwargs)\n"
     ]
    },
    {
     "name": "stdout",
     "output_type": "stream",
     "text": [
      "Applying Scaler passed as argument\n"
     ]
    },
    {
     "name": "stderr",
     "output_type": "stream",
     "text": [
      "/Users/PJA/anaconda3/lib/python3.10/site-packages/pandas/core/internals/blocks.py:351: RuntimeWarning: invalid value encountered in log\n",
      "  result = func(self.values, **kwargs)\n",
      "/Users/PJA/anaconda3/lib/python3.10/site-packages/pandas/core/internals/blocks.py:351: RuntimeWarning: invalid value encountered in log\n",
      "  result = func(self.values, **kwargs)\n"
     ]
    },
    {
     "name": "stdout",
     "output_type": "stream",
     "text": [
      "Applying Scaler passed as argument\n",
      "Applying Scaler passed as argument\n",
      "Applying Scaler passed as argument\n",
      "Applying Scaler passed as argument\n",
      "Applying Scaler passed as argument\n",
      "Applying Scaler passed as argument\n",
      "Applying Scaler passed as argument\n",
      "Applying Scaler passed as argument\n",
      "Applying Scaler passed as argument\n",
      "Applying Scaler passed as argument\n",
      "Applying Scaler passed as argument\n",
      "Applying Scaler passed as argument\n",
      "Applying Scaler passed as argument\n",
      "Applying Scaler passed as argument\n",
      "Applying Scaler passed as argument\n",
      "Applying Scaler passed as argument\n",
      "Applying Scaler passed as argument\n",
      "Applying Scaler passed as argument\n",
      "Applying Scaler passed as argument\n",
      "Applying Scaler passed as argument\n",
      "Applying Scaler passed as argument\n",
      "Applying Scaler passed as argument\n",
      "Applying Scaler passed as argument\n",
      "Applying Scaler passed as argument\n",
      "Applying Scaler passed as argument\n",
      "Applying Scaler passed as argument\n",
      "Applying Scaler passed as argument\n",
      "Applying Scaler passed as argument\n",
      "Applying Scaler passed as argument\n",
      "Applying Scaler passed as argument\n",
      "Applying Scaler passed as argument\n",
      "Applying Scaler passed as argument\n",
      "Applying Scaler passed as argument\n",
      "Applying Scaler passed as argument\n",
      "Applying Scaler passed as argument\n",
      "Applying Scaler passed as argument\n",
      "Applying Scaler passed as argument\n",
      "Applying Scaler passed as argument\n",
      "Applying Scaler passed as argument\n",
      "Applying Scaler passed as argument\n",
      "Applying Scaler passed as argument\n",
      "Applying Scaler passed as argument\n",
      "Applying Scaler passed as argument\n",
      "Applying Scaler passed as argument\n",
      "Applying Scaler passed as argument\n",
      "Applying Scaler passed as argument\n"
     ]
    }
   ],
   "source": [
    "train = FeatureEngineering.prepare_features(final_pairs_mapping, 'train')\n",
    "test = FeatureEngineering.prepare_features(final_pairs_mapping, 'test')"
   ]
  },
  {
   "cell_type": "code",
   "execution_count": null,
   "metadata": {},
   "outputs": [],
   "source": [
    "# Connect to database\n",
    "conn = sqlite3.connect('src/data/pairs_trading.db')\n",
    "cursor = conn.cursor()\n",
    "\n",
    "# Store time series in database\n",
    "#data.to_sql('time_series', conn, if_exists='replace', index=True)\n",
    "#data_test.to_sql('test_set_raw', conn, if_exists='replace', index=True)\n",
    "#data_train.to_sql('train_set_raw', conn, if_exists='replace', index=True)\n",
    "pairs_mapping.to_sql('pairs_mapping', conn, if_exists='replace', index=False)\n",
    "#codes_mapping.to_sql('codes_mapping', conn, if_exists='replace', index=False)\n",
    "#all_pairs_train.to_sql('training_paires', conn, if_exists='replace', index=False)\n",
    "#all_pairs_test.to_sql('test_paires', conn, if_exists='replace', index=False)\n",
    "\n",
    "\n",
    "# Commit the changes to the database and close the connection\n",
    "conn.commit()\n",
    "conn.close()"
   ]
  },
  {
   "cell_type": "code",
   "execution_count": null,
   "metadata": {},
   "outputs": [
    {
     "data": {
      "text/plain": [
       "15"
      ]
     },
     "execution_count": 12,
     "metadata": {},
     "output_type": "execute_result"
    }
   ],
   "source": [
    "all_pairs_test.pair.max()"
   ]
  },
  {
   "cell_type": "code",
   "execution_count": null,
   "metadata": {},
   "outputs": [
    {
     "data": {
      "text/html": [
       "<div>\n",
       "<style scoped>\n",
       "    .dataframe tbody tr th:only-of-type {\n",
       "        vertical-align: middle;\n",
       "    }\n",
       "\n",
       "    .dataframe tbody tr th {\n",
       "        vertical-align: top;\n",
       "    }\n",
       "\n",
       "    .dataframe thead th {\n",
       "        text-align: right;\n",
       "    }\n",
       "</style>\n",
       "<table border=\"1\" class=\"dataframe\">\n",
       "  <thead>\n",
       "    <tr style=\"text-align: right;\">\n",
       "      <th></th>\n",
       "      <th>NBKCS00(FLOT)</th>\n",
       "      <th>NBKCS00(CMONTH)</th>\n",
       "      <th>NBKCS00(PS)</th>\n",
       "      <th>NBKCS00(VM)</th>\n",
       "      <th>LTCCS03(FLOT)</th>\n",
       "      <th>LTCCS03(CMONTH)</th>\n",
       "      <th>LTCCS03(PS)</th>\n",
       "      <th>LTCCS05(FLOT)</th>\n",
       "      <th>LTCCS05(PS)</th>\n",
       "      <th>LTCCS02(FLOT)</th>\n",
       "      <th>...</th>\n",
       "      <th>NGCCS81(PS)</th>\n",
       "      <th>NGCCS91(PS)</th>\n",
       "      <th>NGCCS23(PS)</th>\n",
       "      <th>NGCCS33(PS)</th>\n",
       "      <th>NGCCS40(PS)</th>\n",
       "      <th>NGCCS50(PS)</th>\n",
       "      <th>NGCCS60(PS)</th>\n",
       "      <th>NGCCS70(PS)</th>\n",
       "      <th>NGCCS90(PS)</th>\n",
       "      <th>NGCCS80(PS)</th>\n",
       "    </tr>\n",
       "    <tr>\n",
       "      <th>Date</th>\n",
       "      <th></th>\n",
       "      <th></th>\n",
       "      <th></th>\n",
       "      <th></th>\n",
       "      <th></th>\n",
       "      <th></th>\n",
       "      <th></th>\n",
       "      <th></th>\n",
       "      <th></th>\n",
       "      <th></th>\n",
       "      <th></th>\n",
       "      <th></th>\n",
       "      <th></th>\n",
       "      <th></th>\n",
       "      <th></th>\n",
       "      <th></th>\n",
       "      <th></th>\n",
       "      <th></th>\n",
       "      <th></th>\n",
       "      <th></th>\n",
       "      <th></th>\n",
       "    </tr>\n",
       "  </thead>\n",
       "  <tbody>\n",
       "    <tr>\n",
       "      <th>2023-05-29</th>\n",
       "      <td>1000.0</td>\n",
       "      <td>202306.0</td>\n",
       "      <td>-4.27</td>\n",
       "      <td>NaN</td>\n",
       "      <td>1000.0</td>\n",
       "      <td>202308.0</td>\n",
       "      <td>73.01</td>\n",
       "      <td>1000.0</td>\n",
       "      <td>63.11</td>\n",
       "      <td>1000.0</td>\n",
       "      <td>...</td>\n",
       "      <td>2036.9</td>\n",
       "      <td>2053.6</td>\n",
       "      <td>1944.3</td>\n",
       "      <td>1954.0</td>\n",
       "      <td>1982.6</td>\n",
       "      <td>2001.4</td>\n",
       "      <td>2019.9</td>\n",
       "      <td>2036.9</td>\n",
       "      <td>2069.2</td>\n",
       "      <td>2053.6</td>\n",
       "    </tr>\n",
       "    <tr>\n",
       "      <th>2023-05-30</th>\n",
       "      <td>1000.0</td>\n",
       "      <td>202306.0</td>\n",
       "      <td>-4.19</td>\n",
       "      <td>50.0</td>\n",
       "      <td>1000.0</td>\n",
       "      <td>202308.0</td>\n",
       "      <td>69.60</td>\n",
       "      <td>1000.0</td>\n",
       "      <td>61.30</td>\n",
       "      <td>1000.0</td>\n",
       "      <td>...</td>\n",
       "      <td>2067.8</td>\n",
       "      <td>2083.3</td>\n",
       "      <td>1968.1</td>\n",
       "      <td>1977.1</td>\n",
       "      <td>1996.7</td>\n",
       "      <td>2015.5</td>\n",
       "      <td>2033.9</td>\n",
       "      <td>2051.1</td>\n",
       "      <td>2083.3</td>\n",
       "      <td>2067.8</td>\n",
       "    </tr>\n",
       "    <tr>\n",
       "      <th>2023-05-31</th>\n",
       "      <td>1000.0</td>\n",
       "      <td>202306.0</td>\n",
       "      <td>-4.45</td>\n",
       "      <td>3145.0</td>\n",
       "      <td>1000.0</td>\n",
       "      <td>202308.0</td>\n",
       "      <td>68.24</td>\n",
       "      <td>1000.0</td>\n",
       "      <td>60.52</td>\n",
       "      <td>1000.0</td>\n",
       "      <td>...</td>\n",
       "      <td>2072.6</td>\n",
       "      <td>2088.0</td>\n",
       "      <td>1973.1</td>\n",
       "      <td>1982.1</td>\n",
       "      <td>2001.7</td>\n",
       "      <td>2020.4</td>\n",
       "      <td>2038.9</td>\n",
       "      <td>2055.9</td>\n",
       "      <td>2088.0</td>\n",
       "      <td>2072.6</td>\n",
       "    </tr>\n",
       "    <tr>\n",
       "      <th>2023-06-01</th>\n",
       "      <td>1000.0</td>\n",
       "      <td>202307.0</td>\n",
       "      <td>-4.06</td>\n",
       "      <td>1435.0</td>\n",
       "      <td>1000.0</td>\n",
       "      <td>202308.0</td>\n",
       "      <td>70.20</td>\n",
       "      <td>1000.0</td>\n",
       "      <td>61.26</td>\n",
       "      <td>1000.0</td>\n",
       "      <td>...</td>\n",
       "      <td>2086.3</td>\n",
       "      <td>2101.5</td>\n",
       "      <td>1986.5</td>\n",
       "      <td>1995.5</td>\n",
       "      <td>2034.0</td>\n",
       "      <td>2052.9</td>\n",
       "      <td>2069.9</td>\n",
       "      <td>2086.3</td>\n",
       "      <td>2114.5</td>\n",
       "      <td>2101.5</td>\n",
       "    </tr>\n",
       "    <tr>\n",
       "      <th>2023-06-02</th>\n",
       "      <td>1000.0</td>\n",
       "      <td>202307.0</td>\n",
       "      <td>-4.18</td>\n",
       "      <td>0.0</td>\n",
       "      <td>1000.0</td>\n",
       "      <td>202308.0</td>\n",
       "      <td>71.84</td>\n",
       "      <td>1000.0</td>\n",
       "      <td>62.02</td>\n",
       "      <td>1000.0</td>\n",
       "      <td>...</td>\n",
       "      <td>2062.0</td>\n",
       "      <td>2077.6</td>\n",
       "      <td>1960.6</td>\n",
       "      <td>1969.6</td>\n",
       "      <td>2008.0</td>\n",
       "      <td>2027.0</td>\n",
       "      <td>2044.6</td>\n",
       "      <td>2062.0</td>\n",
       "      <td>2091.1</td>\n",
       "      <td>2077.6</td>\n",
       "    </tr>\n",
       "  </tbody>\n",
       "</table>\n",
       "<p>5 rows × 567 columns</p>\n",
       "</div>"
      ],
      "text/plain": [
       "            NBKCS00(FLOT)  NBKCS00(CMONTH)  NBKCS00(PS)  NBKCS00(VM)  \\\n",
       "Date                                                                   \n",
       "2023-05-29         1000.0         202306.0        -4.27          NaN   \n",
       "2023-05-30         1000.0         202306.0        -4.19         50.0   \n",
       "2023-05-31         1000.0         202306.0        -4.45       3145.0   \n",
       "2023-06-01         1000.0         202307.0        -4.06       1435.0   \n",
       "2023-06-02         1000.0         202307.0        -4.18          0.0   \n",
       "\n",
       "            LTCCS03(FLOT)  LTCCS03(CMONTH)  LTCCS03(PS)  LTCCS05(FLOT)  \\\n",
       "Date                                                                     \n",
       "2023-05-29         1000.0         202308.0        73.01         1000.0   \n",
       "2023-05-30         1000.0         202308.0        69.60         1000.0   \n",
       "2023-05-31         1000.0         202308.0        68.24         1000.0   \n",
       "2023-06-01         1000.0         202308.0        70.20         1000.0   \n",
       "2023-06-02         1000.0         202308.0        71.84         1000.0   \n",
       "\n",
       "            LTCCS05(PS)  LTCCS02(FLOT)  ...  NGCCS81(PS)  NGCCS91(PS)  \\\n",
       "Date                                    ...                             \n",
       "2023-05-29        63.11         1000.0  ...       2036.9       2053.6   \n",
       "2023-05-30        61.30         1000.0  ...       2067.8       2083.3   \n",
       "2023-05-31        60.52         1000.0  ...       2072.6       2088.0   \n",
       "2023-06-01        61.26         1000.0  ...       2086.3       2101.5   \n",
       "2023-06-02        62.02         1000.0  ...       2062.0       2077.6   \n",
       "\n",
       "            NGCCS23(PS)  NGCCS33(PS)  NGCCS40(PS)  NGCCS50(PS)  NGCCS60(PS)  \\\n",
       "Date                                                                          \n",
       "2023-05-29       1944.3       1954.0       1982.6       2001.4       2019.9   \n",
       "2023-05-30       1968.1       1977.1       1996.7       2015.5       2033.9   \n",
       "2023-05-31       1973.1       1982.1       2001.7       2020.4       2038.9   \n",
       "2023-06-01       1986.5       1995.5       2034.0       2052.9       2069.9   \n",
       "2023-06-02       1960.6       1969.6       2008.0       2027.0       2044.6   \n",
       "\n",
       "            NGCCS70(PS)  NGCCS90(PS)  NGCCS80(PS)  \n",
       "Date                                               \n",
       "2023-05-29       2036.9       2069.2       2053.6  \n",
       "2023-05-30       2051.1       2083.3       2067.8  \n",
       "2023-05-31       2055.9       2088.0       2072.6  \n",
       "2023-06-01       2086.3       2114.5       2101.5  \n",
       "2023-06-02       2062.0       2091.1       2077.6  \n",
       "\n",
       "[5 rows x 567 columns]"
      ]
     },
     "execution_count": 5,
     "metadata": {},
     "output_type": "execute_result"
    }
   ],
   "source": [
    "data_train.tail()"
   ]
  }
 ],
 "metadata": {
  "kernelspec": {
   "display_name": "base",
   "language": "python",
   "name": "python3"
  },
  "language_info": {
   "codemirror_mode": {
    "name": "ipython",
    "version": 3
   },
   "file_extension": ".py",
   "mimetype": "text/x-python",
   "name": "python",
   "nbconvert_exporter": "python",
   "pygments_lexer": "ipython3",
   "version": "3.10.9"
  },
  "orig_nbformat": 4
 },
 "nbformat": 4,
 "nbformat_minor": 2
}
